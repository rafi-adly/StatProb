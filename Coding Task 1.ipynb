{
  "nbformat": 4,
  "nbformat_minor": 0,
  "metadata": {
    "colab": {
      "provenance": [],
      "authorship_tag": "ABX9TyMS8GUfHznzfdVqIK3r6wDv",
      "include_colab_link": true
    },
    "kernelspec": {
      "name": "python3",
      "display_name": "Python 3"
    },
    "language_info": {
      "name": "python"
    }
  },
  "cells": [
    {
      "cell_type": "markdown",
      "metadata": {
        "id": "view-in-github",
        "colab_type": "text"
      },
      "source": [
        "<a href=\"https://colab.research.google.com/github/shintaar123/commit.ment/blob/main/coding_task1.ipynb\" target=\"_parent\"><img src=\"https://colab.research.google.com/assets/colab-badge.svg\" alt=\"Open In Colab\"/></a>"
      ]
    },
    {
      "cell_type": "markdown",
      "source": [
        "## **Analisis Statistik Deskriptif Sederhana Menggunakan Python**\n",
        "\n",
        "---\n",
        "\n"
      ],
      "metadata": {
        "id": "icKUrPgxF2os"
      }
    },
    {
      "cell_type": "markdown",
      "source": [
        "**KELOMPOK**\n",
        "- Shinta Alya Ramadani (5027241016)\n",
        "-\tDimas Muhammad Putra (5027241076)\n",
        "-\tMuhammad Rafi Adly (5027241082)\n",
        "-\tAhmad Syauqi Reza (5027241085)\n"
      ],
      "metadata": {
        "id": "TeYXf5LAF5j4"
      }
    },
    {
      "cell_type": "code",
      "execution_count": 1,
      "metadata": {
        "id": "8L6V9pHM8KNA"
      },
      "outputs": [],
      "source": [
        "import pandas as pd\n",
        "import numpy as np\n",
        "import matplotlib.pyplot as plt"
      ]
    },
    {
      "cell_type": "code",
      "source": [
        "from google.colab import files\n",
        "uploaded = files.upload()"
      ],
      "metadata": {
        "colab": {
          "base_uri": "https://localhost:8080/",
          "height": 73
        },
        "id": "B4H9r17y8coE",
        "outputId": "ae087eb1-43fd-4c6a-83f6-b2cadf32a28a"
      },
      "execution_count": 2,
      "outputs": [
        {
          "output_type": "display_data",
          "data": {
            "text/plain": [
              "<IPython.core.display.HTML object>"
            ],
            "text/html": [
              "\n",
              "     <input type=\"file\" id=\"files-cf73f40e-502a-4e1e-a9b8-05fbc0666e81\" name=\"files[]\" multiple disabled\n",
              "        style=\"border:none\" />\n",
              "     <output id=\"result-cf73f40e-502a-4e1e-a9b8-05fbc0666e81\">\n",
              "      Upload widget is only available when the cell has been executed in the\n",
              "      current browser session. Please rerun this cell to enable.\n",
              "      </output>\n",
              "      <script>// Copyright 2017 Google LLC\n",
              "//\n",
              "// Licensed under the Apache License, Version 2.0 (the \"License\");\n",
              "// you may not use this file except in compliance with the License.\n",
              "// You may obtain a copy of the License at\n",
              "//\n",
              "//      http://www.apache.org/licenses/LICENSE-2.0\n",
              "//\n",
              "// Unless required by applicable law or agreed to in writing, software\n",
              "// distributed under the License is distributed on an \"AS IS\" BASIS,\n",
              "// WITHOUT WARRANTIES OR CONDITIONS OF ANY KIND, either express or implied.\n",
              "// See the License for the specific language governing permissions and\n",
              "// limitations under the License.\n",
              "\n",
              "/**\n",
              " * @fileoverview Helpers for google.colab Python module.\n",
              " */\n",
              "(function(scope) {\n",
              "function span(text, styleAttributes = {}) {\n",
              "  const element = document.createElement('span');\n",
              "  element.textContent = text;\n",
              "  for (const key of Object.keys(styleAttributes)) {\n",
              "    element.style[key] = styleAttributes[key];\n",
              "  }\n",
              "  return element;\n",
              "}\n",
              "\n",
              "// Max number of bytes which will be uploaded at a time.\n",
              "const MAX_PAYLOAD_SIZE = 100 * 1024;\n",
              "\n",
              "function _uploadFiles(inputId, outputId) {\n",
              "  const steps = uploadFilesStep(inputId, outputId);\n",
              "  const outputElement = document.getElementById(outputId);\n",
              "  // Cache steps on the outputElement to make it available for the next call\n",
              "  // to uploadFilesContinue from Python.\n",
              "  outputElement.steps = steps;\n",
              "\n",
              "  return _uploadFilesContinue(outputId);\n",
              "}\n",
              "\n",
              "// This is roughly an async generator (not supported in the browser yet),\n",
              "// where there are multiple asynchronous steps and the Python side is going\n",
              "// to poll for completion of each step.\n",
              "// This uses a Promise to block the python side on completion of each step,\n",
              "// then passes the result of the previous step as the input to the next step.\n",
              "function _uploadFilesContinue(outputId) {\n",
              "  const outputElement = document.getElementById(outputId);\n",
              "  const steps = outputElement.steps;\n",
              "\n",
              "  const next = steps.next(outputElement.lastPromiseValue);\n",
              "  return Promise.resolve(next.value.promise).then((value) => {\n",
              "    // Cache the last promise value to make it available to the next\n",
              "    // step of the generator.\n",
              "    outputElement.lastPromiseValue = value;\n",
              "    return next.value.response;\n",
              "  });\n",
              "}\n",
              "\n",
              "/**\n",
              " * Generator function which is called between each async step of the upload\n",
              " * process.\n",
              " * @param {string} inputId Element ID of the input file picker element.\n",
              " * @param {string} outputId Element ID of the output display.\n",
              " * @return {!Iterable<!Object>} Iterable of next steps.\n",
              " */\n",
              "function* uploadFilesStep(inputId, outputId) {\n",
              "  const inputElement = document.getElementById(inputId);\n",
              "  inputElement.disabled = false;\n",
              "\n",
              "  const outputElement = document.getElementById(outputId);\n",
              "  outputElement.innerHTML = '';\n",
              "\n",
              "  const pickedPromise = new Promise((resolve) => {\n",
              "    inputElement.addEventListener('change', (e) => {\n",
              "      resolve(e.target.files);\n",
              "    });\n",
              "  });\n",
              "\n",
              "  const cancel = document.createElement('button');\n",
              "  inputElement.parentElement.appendChild(cancel);\n",
              "  cancel.textContent = 'Cancel upload';\n",
              "  const cancelPromise = new Promise((resolve) => {\n",
              "    cancel.onclick = () => {\n",
              "      resolve(null);\n",
              "    };\n",
              "  });\n",
              "\n",
              "  // Wait for the user to pick the files.\n",
              "  const files = yield {\n",
              "    promise: Promise.race([pickedPromise, cancelPromise]),\n",
              "    response: {\n",
              "      action: 'starting',\n",
              "    }\n",
              "  };\n",
              "\n",
              "  cancel.remove();\n",
              "\n",
              "  // Disable the input element since further picks are not allowed.\n",
              "  inputElement.disabled = true;\n",
              "\n",
              "  if (!files) {\n",
              "    return {\n",
              "      response: {\n",
              "        action: 'complete',\n",
              "      }\n",
              "    };\n",
              "  }\n",
              "\n",
              "  for (const file of files) {\n",
              "    const li = document.createElement('li');\n",
              "    li.append(span(file.name, {fontWeight: 'bold'}));\n",
              "    li.append(span(\n",
              "        `(${file.type || 'n/a'}) - ${file.size} bytes, ` +\n",
              "        `last modified: ${\n",
              "            file.lastModifiedDate ? file.lastModifiedDate.toLocaleDateString() :\n",
              "                                    'n/a'} - `));\n",
              "    const percent = span('0% done');\n",
              "    li.appendChild(percent);\n",
              "\n",
              "    outputElement.appendChild(li);\n",
              "\n",
              "    const fileDataPromise = new Promise((resolve) => {\n",
              "      const reader = new FileReader();\n",
              "      reader.onload = (e) => {\n",
              "        resolve(e.target.result);\n",
              "      };\n",
              "      reader.readAsArrayBuffer(file);\n",
              "    });\n",
              "    // Wait for the data to be ready.\n",
              "    let fileData = yield {\n",
              "      promise: fileDataPromise,\n",
              "      response: {\n",
              "        action: 'continue',\n",
              "      }\n",
              "    };\n",
              "\n",
              "    // Use a chunked sending to avoid message size limits. See b/62115660.\n",
              "    let position = 0;\n",
              "    do {\n",
              "      const length = Math.min(fileData.byteLength - position, MAX_PAYLOAD_SIZE);\n",
              "      const chunk = new Uint8Array(fileData, position, length);\n",
              "      position += length;\n",
              "\n",
              "      const base64 = btoa(String.fromCharCode.apply(null, chunk));\n",
              "      yield {\n",
              "        response: {\n",
              "          action: 'append',\n",
              "          file: file.name,\n",
              "          data: base64,\n",
              "        },\n",
              "      };\n",
              "\n",
              "      let percentDone = fileData.byteLength === 0 ?\n",
              "          100 :\n",
              "          Math.round((position / fileData.byteLength) * 100);\n",
              "      percent.textContent = `${percentDone}% done`;\n",
              "\n",
              "    } while (position < fileData.byteLength);\n",
              "  }\n",
              "\n",
              "  // All done.\n",
              "  yield {\n",
              "    response: {\n",
              "      action: 'complete',\n",
              "    }\n",
              "  };\n",
              "}\n",
              "\n",
              "scope.google = scope.google || {};\n",
              "scope.google.colab = scope.google.colab || {};\n",
              "scope.google.colab._files = {\n",
              "  _uploadFiles,\n",
              "  _uploadFilesContinue,\n",
              "};\n",
              "})(self);\n",
              "</script> "
            ]
          },
          "metadata": {}
        },
        {
          "output_type": "stream",
          "name": "stdout",
          "text": [
            "Saving Dataset.xlsx to Dataset.xlsx\n"
          ]
        }
      ]
    },
    {
      "cell_type": "code",
      "source": [
        "file_path = r'E:\\TUGAS IT\\Dataset.xlsx'\n",
        "df = pd.read_excel('Dataset.xlsx')\n",
        "print(df.head())"
      ],
      "metadata": {
        "colab": {
          "base_uri": "https://localhost:8080/"
        },
        "id": "1_XcYK9y8rWM",
        "outputId": "32bada98-2bfc-407e-d472-6d962779c155"
      },
      "execution_count": 4,
      "outputs": [
        {
          "output_type": "stream",
          "name": "stdout",
          "text": [
            "   Tanggal  Curah Hujan (mm)  Penjualan A (pcs)  Penjualan B (pcs)\n",
            "0        1               1.4                  0                507\n",
            "1        2               1.2                 27                 61\n",
            "2        3              15.2                458                367\n",
            "3        4              13.4                 20                 21\n",
            "4        5               7.7                  7                  0\n"
          ]
        }
      ]
    },
    {
      "cell_type": "markdown",
      "source": [
        "**MENCARI RATA-RATA (MEAN)**"
      ],
      "metadata": {
        "id": "rPF4qKwY9K8N"
      }
    },
    {
      "cell_type": "code",
      "source": [
        "mean_A = df['Penjualan A (pcs)'].mean()\n",
        "mean_B = df['Penjualan B (pcs)'].mean()\n",
        "\n",
        "print(f\"Rata-rata penjualan Produk A: {mean_A}\")\n",
        "print(f\"Rata-rata penjualan Produk B: {mean_B}\")"
      ],
      "metadata": {
        "colab": {
          "base_uri": "https://localhost:8080/"
        },
        "id": "Gs1aFzaQ8xrf",
        "outputId": "c898c836-39d5-4587-a194-7e48383f62c6"
      },
      "execution_count": 6,
      "outputs": [
        {
          "output_type": "stream",
          "name": "stdout",
          "text": [
            "Rata-rata penjualan Produk A: 131.83471074380165\n",
            "Rata-rata penjualan Produk B: 205.54545454545453\n"
          ]
        }
      ]
    },
    {
      "cell_type": "markdown",
      "source": [
        "**MENCARI NILAI TENGAH (MEDIAN)**"
      ],
      "metadata": {
        "id": "xRLro8c49O_T"
      }
    },
    {
      "cell_type": "code",
      "source": [
        "median_A = df['Penjualan A (pcs)'].median()\n",
        "median_B = df['Penjualan B (pcs)'].median()\n",
        "\n",
        "print(f\"Median penjualan Produk A: {median_A}\")\n",
        "print(f\"Median penjualan Produk B: {median_B}\")"
      ],
      "metadata": {
        "colab": {
          "base_uri": "https://localhost:8080/"
        },
        "id": "Me969Cry9WRn",
        "outputId": "f5f4999e-24d5-42d9-c221-d389082f4326"
      },
      "execution_count": 7,
      "outputs": [
        {
          "output_type": "stream",
          "name": "stdout",
          "text": [
            "Median penjualan Produk A: 52.0\n",
            "Median penjualan Produk B: 157.0\n"
          ]
        }
      ]
    },
    {
      "cell_type": "markdown",
      "source": [
        "**MENCARI MODUS (MODE)**"
      ],
      "metadata": {
        "id": "g66MepDp9l5f"
      }
    },
    {
      "cell_type": "code",
      "source": [
        "mode_A = df['Penjualan A (pcs)'].mode()\n",
        "mode_B = df['Penjualan B (pcs)'].mode()\n",
        "\n",
        "print(f\"Modus penjualan Produk A: {mode_A.values}\")\n",
        "print(f\"Modus penjualan Produk B: {mode_B.values}\")"
      ],
      "metadata": {
        "colab": {
          "base_uri": "https://localhost:8080/"
        },
        "id": "CqmY1pu79lVP",
        "outputId": "e27a08b6-12c9-4c3a-a3cd-1e0402070208"
      },
      "execution_count": 9,
      "outputs": [
        {
          "output_type": "stream",
          "name": "stdout",
          "text": [
            "Modus penjualan Produk A: [0]\n",
            "Modus penjualan Produk B: [0]\n"
          ]
        }
      ]
    },
    {
      "cell_type": "markdown",
      "source": [
        "**MENCARI RANGE**"
      ],
      "metadata": {
        "id": "2U7SjMKm98mj"
      }
    },
    {
      "cell_type": "code",
      "source": [
        "range_A = df['Penjualan A (pcs)'].max() - df['Penjualan A (pcs)'].min()\n",
        "range_B = df['Penjualan B (pcs)'].max() - df['Penjualan B (pcs)'].min()\n",
        "\n",
        "print(f\"Range penjualan Produk A: {range_A}\")\n",
        "print(f\"Range penjualan Produk B: {range_B}\")"
      ],
      "metadata": {
        "colab": {
          "base_uri": "https://localhost:8080/"
        },
        "id": "exP-nTgq-BYD",
        "outputId": "ded3740a-ae2c-46ac-a397-2a24cab5323e"
      },
      "execution_count": 11,
      "outputs": [
        {
          "output_type": "stream",
          "name": "stdout",
          "text": [
            "Range penjualan Produk A: 458\n",
            "Range penjualan Produk B: 545\n"
          ]
        }
      ]
    },
    {
      "cell_type": "markdown",
      "source": [
        "**MENCARI INTERQUARTIL RANGE (IQR)**"
      ],
      "metadata": {
        "id": "Rds3qLit-P-P"
      }
    },
    {
      "cell_type": "code",
      "source": [
        "Q1_A = df['Penjualan A (pcs)'].quantile(0.25)\n",
        "Q3_A = df['Penjualan A (pcs)'].quantile(0.75)\n",
        "IQR_A = Q3_A - Q1_A\n",
        "\n",
        "Q1_B = df['Penjualan B (pcs)'].quantile(0.25)\n",
        "Q3_B = df['Penjualan B (pcs)'].quantile(0.75)\n",
        "IQR_B = Q3_B - Q1_B\n",
        "\n",
        "print(f\"IQR penjualan Produk A: {IQR_A}\")\n",
        "print(f\"IQR penjualan Produk B: {IQR_B}\")"
      ],
      "metadata": {
        "colab": {
          "base_uri": "https://localhost:8080/"
        },
        "id": "V0ysPcsz-Z3j",
        "outputId": "d2c30bb7-e4bb-4f98-a9b2-026b69cae68f"
      },
      "execution_count": 12,
      "outputs": [
        {
          "output_type": "stream",
          "name": "stdout",
          "text": [
            "IQR penjualan Produk A: 233.0\n",
            "IQR penjualan Produk B: 244.0\n"
          ]
        }
      ]
    },
    {
      "cell_type": "markdown",
      "source": [
        "**MENCARI VARIANSI**"
      ],
      "metadata": {
        "id": "qFsenXhm-jf0"
      }
    },
    {
      "cell_type": "code",
      "source": [
        "variance_A = df['Penjualan A (pcs)'].var()\n",
        "variance_B = df['Penjualan B (pcs)'].var()\n",
        "\n",
        "print(f\"Variansi penjualan Produk A: {variance_A}\")\n",
        "print(f\"Variansi penjualan Produk B: {variance_B}\")"
      ],
      "metadata": {
        "colab": {
          "base_uri": "https://localhost:8080/"
        },
        "id": "lbgamZTn-rJ7",
        "outputId": "3d420b23-fb6e-428b-fee5-51c44869e20a"
      },
      "execution_count": 13,
      "outputs": [
        {
          "output_type": "stream",
          "name": "stdout",
          "text": [
            "Variansi penjualan Produk A: 20049.672451790644\n",
            "Variansi penjualan Produk B: 25627.250000000004\n"
          ]
        }
      ]
    },
    {
      "cell_type": "markdown",
      "source": [
        "**MENCARI STANDAR DEVIASI**"
      ],
      "metadata": {
        "id": "-FbMSqdA-3pW"
      }
    },
    {
      "cell_type": "code",
      "source": [
        "std_dev_A = df['Penjualan A (pcs)'].std()\n",
        "std_dev_B = df['Penjualan B (pcs)'].std()\n",
        "\n",
        "print(f\"Standar deviasi penjualan Produk A: {std_dev_A}\")\n",
        "print(f\"Standar deviasi penjualan Produk B: {std_dev_B}\")"
      ],
      "metadata": {
        "colab": {
          "base_uri": "https://localhost:8080/"
        },
        "id": "WP0cqa1h-8em",
        "outputId": "5488fcf4-ff9e-42a2-80e8-7c939aae17b6"
      },
      "execution_count": 14,
      "outputs": [
        {
          "output_type": "stream",
          "name": "stdout",
          "text": [
            "Standar deviasi penjualan Produk A: 141.59686596740283\n",
            "Standar deviasi penjualan Produk B: 160.0851336008438\n"
          ]
        }
      ]
    },
    {
      "cell_type": "markdown",
      "source": [
        "**MENCARI SKEWNESS**"
      ],
      "metadata": {
        "id": "6hULDVH9_KYr"
      }
    },
    {
      "cell_type": "code",
      "source": [
        "skewness_A = df['Penjualan A (pcs)'].skew()\n",
        "skewness_B = df['Penjualan B (pcs)'].skew()\n",
        "\n",
        "print(f\"Skewness penjualan Produk A: {skewness_A}\")\n",
        "print(f\"Skewness penjualan Produk B: {skewness_B}\")"
      ],
      "metadata": {
        "colab": {
          "base_uri": "https://localhost:8080/"
        },
        "id": "FoUM05c-_OZz",
        "outputId": "e60acbfc-f250-452c-d598-82cbe66a462e"
      },
      "execution_count": 15,
      "outputs": [
        {
          "output_type": "stream",
          "name": "stdout",
          "text": [
            "Skewness penjualan Produk A: 0.7086519796349439\n",
            "Skewness penjualan Produk B: 0.6015575775628691\n"
          ]
        }
      ]
    },
    {
      "cell_type": "markdown",
      "source": [
        "**MENCARI KURTOSIS**"
      ],
      "metadata": {
        "id": "Tdp_28fl_cUj"
      }
    },
    {
      "cell_type": "code",
      "source": [
        "kurtosis_A = df['Penjualan A (pcs)'].kurt()\n",
        "kurtosis_B = df['Penjualan B (pcs)'].kurt()\n",
        "\n",
        "print(f\"Kurtosis penjualan Produk A: {kurtosis_A}\")\n",
        "print(f\"Kurtosis penjualan Produk B: {kurtosis_B}\")"
      ],
      "metadata": {
        "colab": {
          "base_uri": "https://localhost:8080/"
        },
        "id": "stS2BLc4_f9K",
        "outputId": "03f0f0ba-39f4-4421-b393-55d2530586fb"
      },
      "execution_count": 16,
      "outputs": [
        {
          "output_type": "stream",
          "name": "stdout",
          "text": [
            "Kurtosis penjualan Produk A: -0.8560776723908599\n",
            "Kurtosis penjualan Produk B: -0.8155134941435849\n"
          ]
        }
      ]
    },
    {
      "cell_type": "markdown",
      "source": [
        "\n",
        "**TABEL DISTRIBUSI**\n",
        "\n",
        "---\n",
        "\n"
      ],
      "metadata": {
        "id": "SVguFnoS_vCn"
      }
    },
    {
      "cell_type": "code",
      "source": [
        "data = {\n",
        "    'Tanggal': pd.date_range(start='2024-01-01', periods=100, freq='D'),\n",
        "    'Penjualan A (pcs)': [5, 12, 8, 7, 14, 9, 11, 15, 10, 4, 6, 13, 20, 25, 7, 12, 19, 22, 5, 10]*5,\n",
        "    'Penjualan B (pcs)': [2, 8, 5, 10, 12, 7, 11, 14, 6, 3, 9, 12, 15, 20, 7, 11, 8, 6, 14, 13]*5,\n",
        "}\n",
        "df = pd.DataFrame(data)\n",
        "df.set_index(df.columns[0], inplace=True)\n",
        "df\n"
      ],
      "metadata": {
        "colab": {
          "base_uri": "https://localhost:8080/",
          "height": 455
        },
        "id": "YWO-PyDH_xrf",
        "outputId": "38d66a7d-cfbd-44b4-bf67-99c8edef5881"
      },
      "execution_count": 34,
      "outputs": [
        {
          "output_type": "execute_result",
          "data": {
            "text/plain": [
              "            Penjualan A (pcs)  Penjualan B (pcs)\n",
              "Tanggal                                         \n",
              "2024-01-01                  5                  2\n",
              "2024-01-02                 12                  8\n",
              "2024-01-03                  8                  5\n",
              "2024-01-04                  7                 10\n",
              "2024-01-05                 14                 12\n",
              "...                       ...                ...\n",
              "2024-04-05                 12                 11\n",
              "2024-04-06                 19                  8\n",
              "2024-04-07                 22                  6\n",
              "2024-04-08                  5                 14\n",
              "2024-04-09                 10                 13\n",
              "\n",
              "[100 rows x 2 columns]"
            ],
            "text/html": [
              "\n",
              "  <div id=\"df-5cbd6a8e-9a04-4ee6-8db3-a2fea143d6bc\" class=\"colab-df-container\">\n",
              "    <div>\n",
              "<style scoped>\n",
              "    .dataframe tbody tr th:only-of-type {\n",
              "        vertical-align: middle;\n",
              "    }\n",
              "\n",
              "    .dataframe tbody tr th {\n",
              "        vertical-align: top;\n",
              "    }\n",
              "\n",
              "    .dataframe thead th {\n",
              "        text-align: right;\n",
              "    }\n",
              "</style>\n",
              "<table border=\"1\" class=\"dataframe\">\n",
              "  <thead>\n",
              "    <tr style=\"text-align: right;\">\n",
              "      <th></th>\n",
              "      <th>Penjualan A (pcs)</th>\n",
              "      <th>Penjualan B (pcs)</th>\n",
              "    </tr>\n",
              "    <tr>\n",
              "      <th>Tanggal</th>\n",
              "      <th></th>\n",
              "      <th></th>\n",
              "    </tr>\n",
              "  </thead>\n",
              "  <tbody>\n",
              "    <tr>\n",
              "      <th>2024-01-01</th>\n",
              "      <td>5</td>\n",
              "      <td>2</td>\n",
              "    </tr>\n",
              "    <tr>\n",
              "      <th>2024-01-02</th>\n",
              "      <td>12</td>\n",
              "      <td>8</td>\n",
              "    </tr>\n",
              "    <tr>\n",
              "      <th>2024-01-03</th>\n",
              "      <td>8</td>\n",
              "      <td>5</td>\n",
              "    </tr>\n",
              "    <tr>\n",
              "      <th>2024-01-04</th>\n",
              "      <td>7</td>\n",
              "      <td>10</td>\n",
              "    </tr>\n",
              "    <tr>\n",
              "      <th>2024-01-05</th>\n",
              "      <td>14</td>\n",
              "      <td>12</td>\n",
              "    </tr>\n",
              "    <tr>\n",
              "      <th>...</th>\n",
              "      <td>...</td>\n",
              "      <td>...</td>\n",
              "    </tr>\n",
              "    <tr>\n",
              "      <th>2024-04-05</th>\n",
              "      <td>12</td>\n",
              "      <td>11</td>\n",
              "    </tr>\n",
              "    <tr>\n",
              "      <th>2024-04-06</th>\n",
              "      <td>19</td>\n",
              "      <td>8</td>\n",
              "    </tr>\n",
              "    <tr>\n",
              "      <th>2024-04-07</th>\n",
              "      <td>22</td>\n",
              "      <td>6</td>\n",
              "    </tr>\n",
              "    <tr>\n",
              "      <th>2024-04-08</th>\n",
              "      <td>5</td>\n",
              "      <td>14</td>\n",
              "    </tr>\n",
              "    <tr>\n",
              "      <th>2024-04-09</th>\n",
              "      <td>10</td>\n",
              "      <td>13</td>\n",
              "    </tr>\n",
              "  </tbody>\n",
              "</table>\n",
              "<p>100 rows × 2 columns</p>\n",
              "</div>\n",
              "    <div class=\"colab-df-buttons\">\n",
              "\n",
              "  <div class=\"colab-df-container\">\n",
              "    <button class=\"colab-df-convert\" onclick=\"convertToInteractive('df-5cbd6a8e-9a04-4ee6-8db3-a2fea143d6bc')\"\n",
              "            title=\"Convert this dataframe to an interactive table.\"\n",
              "            style=\"display:none;\">\n",
              "\n",
              "  <svg xmlns=\"http://www.w3.org/2000/svg\" height=\"24px\" viewBox=\"0 -960 960 960\">\n",
              "    <path d=\"M120-120v-720h720v720H120Zm60-500h600v-160H180v160Zm220 220h160v-160H400v160Zm0 220h160v-160H400v160ZM180-400h160v-160H180v160Zm440 0h160v-160H620v160ZM180-180h160v-160H180v160Zm440 0h160v-160H620v160Z\"/>\n",
              "  </svg>\n",
              "    </button>\n",
              "\n",
              "  <style>\n",
              "    .colab-df-container {\n",
              "      display:flex;\n",
              "      gap: 12px;\n",
              "    }\n",
              "\n",
              "    .colab-df-convert {\n",
              "      background-color: #E8F0FE;\n",
              "      border: none;\n",
              "      border-radius: 50%;\n",
              "      cursor: pointer;\n",
              "      display: none;\n",
              "      fill: #1967D2;\n",
              "      height: 32px;\n",
              "      padding: 0 0 0 0;\n",
              "      width: 32px;\n",
              "    }\n",
              "\n",
              "    .colab-df-convert:hover {\n",
              "      background-color: #E2EBFA;\n",
              "      box-shadow: 0px 1px 2px rgba(60, 64, 67, 0.3), 0px 1px 3px 1px rgba(60, 64, 67, 0.15);\n",
              "      fill: #174EA6;\n",
              "    }\n",
              "\n",
              "    .colab-df-buttons div {\n",
              "      margin-bottom: 4px;\n",
              "    }\n",
              "\n",
              "    [theme=dark] .colab-df-convert {\n",
              "      background-color: #3B4455;\n",
              "      fill: #D2E3FC;\n",
              "    }\n",
              "\n",
              "    [theme=dark] .colab-df-convert:hover {\n",
              "      background-color: #434B5C;\n",
              "      box-shadow: 0px 1px 3px 1px rgba(0, 0, 0, 0.15);\n",
              "      filter: drop-shadow(0px 1px 2px rgba(0, 0, 0, 0.3));\n",
              "      fill: #FFFFFF;\n",
              "    }\n",
              "  </style>\n",
              "\n",
              "    <script>\n",
              "      const buttonEl =\n",
              "        document.querySelector('#df-5cbd6a8e-9a04-4ee6-8db3-a2fea143d6bc button.colab-df-convert');\n",
              "      buttonEl.style.display =\n",
              "        google.colab.kernel.accessAllowed ? 'block' : 'none';\n",
              "\n",
              "      async function convertToInteractive(key) {\n",
              "        const element = document.querySelector('#df-5cbd6a8e-9a04-4ee6-8db3-a2fea143d6bc');\n",
              "        const dataTable =\n",
              "          await google.colab.kernel.invokeFunction('convertToInteractive',\n",
              "                                                    [key], {});\n",
              "        if (!dataTable) return;\n",
              "\n",
              "        const docLinkHtml = 'Like what you see? Visit the ' +\n",
              "          '<a target=\"_blank\" href=https://colab.research.google.com/notebooks/data_table.ipynb>data table notebook</a>'\n",
              "          + ' to learn more about interactive tables.';\n",
              "        element.innerHTML = '';\n",
              "        dataTable['output_type'] = 'display_data';\n",
              "        await google.colab.output.renderOutput(dataTable, element);\n",
              "        const docLink = document.createElement('div');\n",
              "        docLink.innerHTML = docLinkHtml;\n",
              "        element.appendChild(docLink);\n",
              "      }\n",
              "    </script>\n",
              "  </div>\n",
              "\n",
              "\n",
              "<div id=\"df-87318115-d467-4d7f-853c-2b3ef431fb1b\">\n",
              "  <button class=\"colab-df-quickchart\" onclick=\"quickchart('df-87318115-d467-4d7f-853c-2b3ef431fb1b')\"\n",
              "            title=\"Suggest charts\"\n",
              "            style=\"display:none;\">\n",
              "\n",
              "<svg xmlns=\"http://www.w3.org/2000/svg\" height=\"24px\"viewBox=\"0 0 24 24\"\n",
              "     width=\"24px\">\n",
              "    <g>\n",
              "        <path d=\"M19 3H5c-1.1 0-2 .9-2 2v14c0 1.1.9 2 2 2h14c1.1 0 2-.9 2-2V5c0-1.1-.9-2-2-2zM9 17H7v-7h2v7zm4 0h-2V7h2v10zm4 0h-2v-4h2v4z\"/>\n",
              "    </g>\n",
              "</svg>\n",
              "  </button>\n",
              "\n",
              "<style>\n",
              "  .colab-df-quickchart {\n",
              "      --bg-color: #E8F0FE;\n",
              "      --fill-color: #1967D2;\n",
              "      --hover-bg-color: #E2EBFA;\n",
              "      --hover-fill-color: #174EA6;\n",
              "      --disabled-fill-color: #AAA;\n",
              "      --disabled-bg-color: #DDD;\n",
              "  }\n",
              "\n",
              "  [theme=dark] .colab-df-quickchart {\n",
              "      --bg-color: #3B4455;\n",
              "      --fill-color: #D2E3FC;\n",
              "      --hover-bg-color: #434B5C;\n",
              "      --hover-fill-color: #FFFFFF;\n",
              "      --disabled-bg-color: #3B4455;\n",
              "      --disabled-fill-color: #666;\n",
              "  }\n",
              "\n",
              "  .colab-df-quickchart {\n",
              "    background-color: var(--bg-color);\n",
              "    border: none;\n",
              "    border-radius: 50%;\n",
              "    cursor: pointer;\n",
              "    display: none;\n",
              "    fill: var(--fill-color);\n",
              "    height: 32px;\n",
              "    padding: 0;\n",
              "    width: 32px;\n",
              "  }\n",
              "\n",
              "  .colab-df-quickchart:hover {\n",
              "    background-color: var(--hover-bg-color);\n",
              "    box-shadow: 0 1px 2px rgba(60, 64, 67, 0.3), 0 1px 3px 1px rgba(60, 64, 67, 0.15);\n",
              "    fill: var(--button-hover-fill-color);\n",
              "  }\n",
              "\n",
              "  .colab-df-quickchart-complete:disabled,\n",
              "  .colab-df-quickchart-complete:disabled:hover {\n",
              "    background-color: var(--disabled-bg-color);\n",
              "    fill: var(--disabled-fill-color);\n",
              "    box-shadow: none;\n",
              "  }\n",
              "\n",
              "  .colab-df-spinner {\n",
              "    border: 2px solid var(--fill-color);\n",
              "    border-color: transparent;\n",
              "    border-bottom-color: var(--fill-color);\n",
              "    animation:\n",
              "      spin 1s steps(1) infinite;\n",
              "  }\n",
              "\n",
              "  @keyframes spin {\n",
              "    0% {\n",
              "      border-color: transparent;\n",
              "      border-bottom-color: var(--fill-color);\n",
              "      border-left-color: var(--fill-color);\n",
              "    }\n",
              "    20% {\n",
              "      border-color: transparent;\n",
              "      border-left-color: var(--fill-color);\n",
              "      border-top-color: var(--fill-color);\n",
              "    }\n",
              "    30% {\n",
              "      border-color: transparent;\n",
              "      border-left-color: var(--fill-color);\n",
              "      border-top-color: var(--fill-color);\n",
              "      border-right-color: var(--fill-color);\n",
              "    }\n",
              "    40% {\n",
              "      border-color: transparent;\n",
              "      border-right-color: var(--fill-color);\n",
              "      border-top-color: var(--fill-color);\n",
              "    }\n",
              "    60% {\n",
              "      border-color: transparent;\n",
              "      border-right-color: var(--fill-color);\n",
              "    }\n",
              "    80% {\n",
              "      border-color: transparent;\n",
              "      border-right-color: var(--fill-color);\n",
              "      border-bottom-color: var(--fill-color);\n",
              "    }\n",
              "    90% {\n",
              "      border-color: transparent;\n",
              "      border-bottom-color: var(--fill-color);\n",
              "    }\n",
              "  }\n",
              "</style>\n",
              "\n",
              "  <script>\n",
              "    async function quickchart(key) {\n",
              "      const quickchartButtonEl =\n",
              "        document.querySelector('#' + key + ' button');\n",
              "      quickchartButtonEl.disabled = true;  // To prevent multiple clicks.\n",
              "      quickchartButtonEl.classList.add('colab-df-spinner');\n",
              "      try {\n",
              "        const charts = await google.colab.kernel.invokeFunction(\n",
              "            'suggestCharts', [key], {});\n",
              "      } catch (error) {\n",
              "        console.error('Error during call to suggestCharts:', error);\n",
              "      }\n",
              "      quickchartButtonEl.classList.remove('colab-df-spinner');\n",
              "      quickchartButtonEl.classList.add('colab-df-quickchart-complete');\n",
              "    }\n",
              "    (() => {\n",
              "      let quickchartButtonEl =\n",
              "        document.querySelector('#df-87318115-d467-4d7f-853c-2b3ef431fb1b button');\n",
              "      quickchartButtonEl.style.display =\n",
              "        google.colab.kernel.accessAllowed ? 'block' : 'none';\n",
              "    })();\n",
              "  </script>\n",
              "</div>\n",
              "\n",
              "  <div id=\"id_255e570e-b507-4c8e-bdca-ae9b0f6dd79c\">\n",
              "    <style>\n",
              "      .colab-df-generate {\n",
              "        background-color: #E8F0FE;\n",
              "        border: none;\n",
              "        border-radius: 50%;\n",
              "        cursor: pointer;\n",
              "        display: none;\n",
              "        fill: #1967D2;\n",
              "        height: 32px;\n",
              "        padding: 0 0 0 0;\n",
              "        width: 32px;\n",
              "      }\n",
              "\n",
              "      .colab-df-generate:hover {\n",
              "        background-color: #E2EBFA;\n",
              "        box-shadow: 0px 1px 2px rgba(60, 64, 67, 0.3), 0px 1px 3px 1px rgba(60, 64, 67, 0.15);\n",
              "        fill: #174EA6;\n",
              "      }\n",
              "\n",
              "      [theme=dark] .colab-df-generate {\n",
              "        background-color: #3B4455;\n",
              "        fill: #D2E3FC;\n",
              "      }\n",
              "\n",
              "      [theme=dark] .colab-df-generate:hover {\n",
              "        background-color: #434B5C;\n",
              "        box-shadow: 0px 1px 3px 1px rgba(0, 0, 0, 0.15);\n",
              "        filter: drop-shadow(0px 1px 2px rgba(0, 0, 0, 0.3));\n",
              "        fill: #FFFFFF;\n",
              "      }\n",
              "    </style>\n",
              "    <button class=\"colab-df-generate\" onclick=\"generateWithVariable('df')\"\n",
              "            title=\"Generate code using this dataframe.\"\n",
              "            style=\"display:none;\">\n",
              "\n",
              "  <svg xmlns=\"http://www.w3.org/2000/svg\" height=\"24px\"viewBox=\"0 0 24 24\"\n",
              "       width=\"24px\">\n",
              "    <path d=\"M7,19H8.4L18.45,9,17,7.55,7,17.6ZM5,21V16.75L18.45,3.32a2,2,0,0,1,2.83,0l1.4,1.43a1.91,1.91,0,0,1,.58,1.4,1.91,1.91,0,0,1-.58,1.4L9.25,21ZM18.45,9,17,7.55Zm-12,3A5.31,5.31,0,0,0,4.9,8.1,5.31,5.31,0,0,0,1,6.5,5.31,5.31,0,0,0,4.9,4.9,5.31,5.31,0,0,0,6.5,1,5.31,5.31,0,0,0,8.1,4.9,5.31,5.31,0,0,0,12,6.5,5.46,5.46,0,0,0,6.5,12Z\"/>\n",
              "  </svg>\n",
              "    </button>\n",
              "    <script>\n",
              "      (() => {\n",
              "      const buttonEl =\n",
              "        document.querySelector('#id_255e570e-b507-4c8e-bdca-ae9b0f6dd79c button.colab-df-generate');\n",
              "      buttonEl.style.display =\n",
              "        google.colab.kernel.accessAllowed ? 'block' : 'none';\n",
              "\n",
              "      buttonEl.onclick = () => {\n",
              "        google.colab.notebook.generateWithVariable('df');\n",
              "      }\n",
              "      })();\n",
              "    </script>\n",
              "  </div>\n",
              "\n",
              "    </div>\n",
              "  </div>\n"
            ],
            "application/vnd.google.colaboratory.intrinsic+json": {
              "type": "dataframe",
              "variable_name": "df",
              "summary": "{\n  \"name\": \"df\",\n  \"rows\": 100,\n  \"fields\": [\n    {\n      \"column\": \"Tanggal\",\n      \"properties\": {\n        \"dtype\": \"date\",\n        \"min\": \"2024-01-01 00:00:00\",\n        \"max\": \"2024-04-09 00:00:00\",\n        \"num_unique_values\": 100,\n        \"samples\": [\n          \"2024-03-24 00:00:00\",\n          \"2024-02-23 00:00:00\",\n          \"2024-03-11 00:00:00\"\n        ],\n        \"semantic_type\": \"\",\n        \"description\": \"\"\n      }\n    },\n    {\n      \"column\": \"Penjualan A (pcs)\",\n      \"properties\": {\n        \"dtype\": \"number\",\n        \"std\": 5,\n        \"min\": 4,\n        \"max\": 25,\n        \"num_unique_values\": 16,\n        \"samples\": [\n          5,\n          12,\n          9\n        ],\n        \"semantic_type\": \"\",\n        \"description\": \"\"\n      }\n    },\n    {\n      \"column\": \"Penjualan B (pcs)\",\n      \"properties\": {\n        \"dtype\": \"number\",\n        \"std\": 4,\n        \"min\": 2,\n        \"max\": 20,\n        \"num_unique_values\": 14,\n        \"samples\": [\n          3,\n          15,\n          2\n        ],\n        \"semantic_type\": \"\",\n        \"description\": \"\"\n      }\n    }\n  ]\n}"
            }
          },
          "metadata": {},
          "execution_count": 34
        }
      ]
    },
    {
      "cell_type": "markdown",
      "source": [
        "**HISTOGRAM PENJUALAN A DAN B**"
      ],
      "metadata": {
        "id": "lMRnOa5CEGA2"
      }
    },
    {
      "cell_type": "code",
      "source": [
        "data = {\n",
        "    'Tanggal': pd.date_range(start='2024-01-01', periods=100, freq='D'),\n",
        "    'Penjualan A (pcs)': [5, 12, 8, 7, 14, 9, 11, 15, 10, 4, 6, 13, 20, 25, 7, 12, 19, 22, 5, 10]*5,\n",
        "    'Penjualan B (pcs)': [2, 8, 5, 10, 12, 7, 11, 14, 6, 3, 9, 12, 15, 20, 7, 11, 8, 6, 14, 13]*5,\n",
        "}\n",
        "df = pd.DataFrame(data)\n",
        "plt.figure(figsize=(12, 6))\n",
        "\n",
        "plt.subplot(1, 2, 1)\n",
        "plt.hist(df['Penjualan A (pcs)'], bins=range(0, df['Penjualan A (pcs)'].max() + 5, 5), color='skyblue', alpha=0.7)\n",
        "plt.title('Histogram Penjualan A')\n",
        "plt.xlabel('Jumlah Penjualan A (pcs)')\n",
        "plt.ylabel('Frekuensi')\n",
        "plt.grid(axis='y')\n",
        "\n",
        "plt.subplot(1, 2, 2)\n",
        "plt.hist(df['Penjualan B (pcs)'], bins=range(0, df['Penjualan B (pcs)'].max() + 5, 5), color='lightgreen', alpha=0.7)\n",
        "plt.title('Histogram Penjualan B')\n",
        "plt.xlabel('Jumlah Penjualan B (pcs)')\n",
        "plt.ylabel('Frekuensi')\n",
        "plt.grid(axis='y')\n",
        "\n",
        "plt.tight_layout()\n",
        "plt.show()\n"
      ],
      "metadata": {
        "colab": {
          "base_uri": "https://localhost:8080/",
          "height": 607
        },
        "id": "NrtDNCz_EH7D",
        "outputId": "9b15f456-c06c-472f-aad2-238543dfed1f"
      },
      "execution_count": 35,
      "outputs": [
        {
          "output_type": "display_data",
          "data": {
            "text/plain": [
              "<Figure size 1200x600 with 2 Axes>"
            ],
            "image/png": "[encoded data removed]"
          },
          "metadata": {}
        }
      ]
    },
    {
      "cell_type": "markdown",
      "source": [
        "**POLIGON FREKUENSI PENJUALAN A DAN B**"
      ],
      "metadata": {
        "id": "m3jh0VPEEdJu"
      }
    },
    {
      "cell_type": "code",
      "source": [
        "data = {\n",
        "    'Tanggal': pd.date_range(start='2024-01-01', periods=100, freq='D'),\n",
        "    'Penjualan A (pcs)': [5, 12, 8, 7, 14, 9, 11, 15, 10, 4, 6, 13, 20, 25, 7, 12, 19, 22, 5, 10]*5,\n",
        "    'Penjualan B (pcs)': [2, 8, 5, 10, 12, 7, 11, 14, 6, 3, 9, 12, 15, 20, 7, 11, 8, 6, 14, 13]*5,\n",
        "}\n",
        "df = pd.DataFrame(data)\n",
        "\n",
        "plt.figure(figsize=(12, 6))\n",
        "\n",
        "plt.subplot(1, 2, 1)\n",
        "counts_A, bins_A = np.histogram(df['Penjualan A (pcs)'], bins=range(0, df['Penjualan A (pcs)'].max() + 5, 5))\n",
        "mid_points_A = (bins_A[:-1] + bins_A[1:]) / 2\n",
        "\n",
        "plt.plot(mid_points_A, counts_A, marker='o', color='skyblue')\n",
        "plt.title('Poligon Frekuensi Penjualan A')\n",
        "plt.xlabel('Jumlah Penjualan A (pcs)')\n",
        "plt.ylabel('Frekuensi')\n",
        "\n",
        "plt.grid()\n",
        "plt.subplot(1, 2, 2)\n",
        "counts_B, bins_B = np.histogram(df['Penjualan B (pcs)'], bins=range(0, df['Penjualan B (pcs)'].max() + 5, 5))\n",
        "mid_points_B = (bins_B[:-1] + bins_B[1:]) / 2\n",
        "\n",
        "plt.plot(mid_points_B, counts_B, marker='o', color='lightgreen')\n",
        "plt.title('Poligon Frekuensi Penjualan B')\n",
        "plt.xlabel('Jumlah Penjualan B (pcs)')\n",
        "plt.ylabel('Frekuensi')\n",
        "plt.grid()\n",
        "\n",
        "plt.tight_layout()\n",
        "plt.show()"
      ],
      "metadata": {
        "colab": {
          "base_uri": "https://localhost:8080/",
          "height": 607
        },
        "id": "TV2BUxpCEshy",
        "outputId": "e7e69443-d110-4d16-8942-71dc62c54b17"
      },
      "execution_count": 36,
      "outputs": [
        {
          "output_type": "display_data",
          "data": {
            "text/plain": [
              "<Figure size 1200x600 with 2 Axes>"
            ],
            "image/png": "[encoded data removed]"
          },
          "metadata": {}
        }
      ]
    },
    {
      "cell_type": "markdown",
      "source": [
        "**BOXPLOT**\n",
        "\n",
        "---\n",
        "\n"
      ],
      "metadata": {
        "id": "spNHTYYjFJ6Z"
      }
    },
    {
      "cell_type": "code",
      "source": [
        "data = {\n",
        "    'Tanggal': pd.date_range(start='2024-01-01', periods=100, freq='D'),\n",
        "    'Penjualan A (pcs)': [5, 12, 8, 7, 14, 9, 11, 15, 10, 4, 6, 13, 20, 25, 7, 12, 19, 22, 5, 10]*5,\n",
        "    'Penjualan B (pcs)': [2, 8, 5, 10, 12, 7, 11, 14, 6, 3, 9, 12, 15, 20, 7, 11, 8, 6, 14, 13]*5,\n",
        "}\n",
        "df = pd.DataFrame(data)\n",
        "plt.figure(figsize=(12, 6))\n",
        "\n",
        "plt.boxplot([df['Penjualan A (pcs)'], df['Penjualan B (pcs)']],\n",
        "            labels=['Penjualan A', 'Penjualan B'])\n",
        "\n",
        "plt.title('Boxplot Penjualan Produk A dan B')\n",
        "plt.xlabel('Produk')\n",
        "plt.ylabel('Jumlah Penjualan (pcs)')\n",
        "\n",
        "plt.show()"
      ],
      "metadata": {
        "colab": {
          "base_uri": "https://localhost:8080/",
          "height": 564
        },
        "id": "fqJe1M40FOfh",
        "outputId": "f693bce1-25ae-4afc-aa9a-f36374927e19"
      },
      "execution_count": 38,
      "outputs": [
        {
          "output_type": "display_data",
          "data": {
            "text/plain": [
              "<Figure size 1200x600 with 1 Axes>"
            ],
            "image/png": "[encoded data removed]"
          },
          "metadata": {}
        }
      ]
    },
    {
      "cell_type": "markdown",
      "source": [
        "**Fungsi dari Boxplot**\n",
        "\n",
        "\n",
        "Boxplot adalah alat visualisasi yang digunakan untuk menunjukkan distribusi data berdasarkan lima angka ringkasan (minimum, kuartil pertama, median, kuartil ketiga, dan maksimum). Boxplot juga menunjukkan potensi outlier dalam data. Boxplot berguna untuk membandingkan distribusi beberapa kelompok data dalam satu grafik.\n",
        "\n",
        "**Perbedaan antara Boxplot dan Histogram**\n",
        "\n",
        "Boxplot : Menyediakan ringkasan statistik data dan menunjukkan keberadaan outlier. Boxplot tidak menunjukkan bentuk distribusi secara rinci.\n",
        "Histogram : Menunjukkan distribusi frekuensi data dalam interval tertentu. Histogram memberikan gambaran visual yang lebih jelas tentang bentuk distribusi data (misalnya, apakah normal, miring, atau berbentuk ganda)."
      ],
      "metadata": {
        "id": "69JCcykcGDSe"
      }
    },
    {
      "cell_type": "markdown",
      "source": [
        "**Kesimpulan:**\n",
        "\n",
        "- *Persebaran Data* : Data penjualan A dan B memiliki variasi yang besar, dengan distribusi yang miring ke kanan. Ini berarti ada beberapa penjualan dengan jumlah yang sangat tinggi, namun sebagian besar penjualan berada di sisi rendah.\n",
        "- *Outlier* : Ada indikasi adanya outlier pada penjualan A dan B. Nilai rentang yang besar dan skewness positif menandakan adanya nilai yang cukup jauh dari pusat distribusi.\n",
        "- *Bentuk Distribusi* : Distribusi data tidak simetris dan cenderung miring ke kanan dengan puncak yang datar (platykurtic), yang menunjukkan bahwa sebagian besar penjualan terjadi di bawah rata-rata, dengan beberapa penjualan yang sangat tinggi.\n",
        "\n",
        "Distribusi ini mungkin mencerminkan dinamika penjualan yang tidak stabil, misalnya, penjualan yang melonjak di saat-saat tertentu (misalnya selama promosi) atau kondisi pasar yang fluktuatif."
      ],
      "metadata": {
        "id": "_-gd_XzrGnc-"
      }
    }
  ]
}